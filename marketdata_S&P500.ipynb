{
 "cells": [
  {
   "cell_type": "code",
   "execution_count": 90,
   "metadata": {},
   "outputs": [],
   "source": [
    "import requests\n",
    "from urllib.request import urlopen\n",
    "import re\n",
    "from bs4 import BeautifulSoup\n",
    "import json\n",
    "import datetime as dt"
   ]
  },
  {
   "cell_type": "code",
   "execution_count": 91,
   "metadata": {},
   "outputs": [],
   "source": [
    "def date_format(d):\n",
    "  d = str(d).replace('-', '.')\n",
    "  y = int(d.split('.')[0])\n",
    "  m = int(d.split('.')[1])\n",
    "  d = int(d.split('.')[2])\n",
    "\n",
    "  date = dt.date(y, m, d)\n",
    "  return date"
   ]
  },
  {
   "cell_type": "code",
   "execution_count": 130,
   "metadata": {},
   "outputs": [],
   "source": [
    "def historical_index_daum(index_cd, page_n=1, start_date='', end_date='',last_page=0):\n",
    "    if start_date:\n",
    "        start_date = date_format(start_date)\n",
    "    else:\n",
    "        start_date = dt.date.today()\n",
    "    if end_date:\n",
    "        end_date = date_format(end_date)\n",
    "    else:\n",
    "        end_date = dt.date.today()\n",
    "    \n",
    "    daum_url = 'http://finance.daum.net/api/quote/'+index_cd+'/days?symbolCode='+index_cd+'&page='+str(page_n)+'&perPage=10&pagination=true'\n",
    "    headers = {\n",
    "    'Accept': 'application/json, text/javascript, */*; q=0.01',\n",
    "    'Accept-Encoding' : 'gzip, deflate',\n",
    "    'Accept-Language' : 'en-US,en;q=0.9,ko;q=0.8,it;q=0.7',\n",
    "    'Connection' : 'keep-alive',\n",
    "    'Cookie' : 'webid=2ea353f937bd4a3cb941247cf2652d6a; webid_sync=1522888398111; _ga=GA1.3.2105244674.1523919070; _ga=GA1.2.2105244674.1523919070; _gid=GA1.2.877762057.1555508799; TIARA=uEnmTstYxqwKbKm_6vXkUlsZtOfKkC9tL-Rg457wNvlupxTnN4fd4bo4ValTrmWxU8yX.R.Md1_3LWbajH-hqufaL9S5HcvJ; _dfs=TktmY0NqcUpRWVhpQlloTmdJZXVYRGtSQ2psT2RKOE12bWN5YVpWaXRJNUdJS1c1cWJjWXVjSzNnQ0w1WkpwQUsweFRMdXkxL3c5WDdLMVZkNXdDc0E9PS0tOHp4NEREVnRWWGpxTTFhR3pIYjFOQT09--e4db43e483026c88918c754c26dfe56ad1609bac',\n",
    "    'Host': 'finance.daum.net',\n",
    "    'If-None-Match' : 'W/\"fe4f355ae19744bbc1e270f1ee6aed95\"',\n",
    "    'Referer' : 'http://finance.daum.net/global/quotes/US.SP500',\n",
    "    'User-Agent' : 'Mozilla/5.0 (Windows NT 10.0; Win64; x64) AppleWebKit/537.36 (KHTML, like Gecko) Chrome/73.0.3683.103 Safari/537.36',\n",
    "    'X-Requested-With' : 'XMLHttpRequest'\n",
    "    }\n",
    "    source = requests.get(daum_url, headers = headers)\n",
    "    data = json.loads(source.text)\n",
    "    \n",
    "    for d in data['data']:\n",
    "        this_date = dt.datetime.strptime(d['date'], '%Y-%m-%d %H:%M:%S')\n",
    "        this_date = dt.datetime.date(this_date)\n",
    "        \n",
    "        if this_date <= end_date and this_date >= start_date:\n",
    "            this_close = d['tradePrice']\n",
    "            data_collection[this_date] = this_close\n",
    "        elif start_date > this_date:\n",
    "            return data_collection\n",
    "        \n",
    "    if last_page == 0:\n",
    "        last_page = data['totalPages']\n",
    "      \n",
    "    if page_n < last_page:\n",
    "        page_n += 1\n",
    "        historical_index_daum(index_cd, page_n, start_date, end_date, last_page)"
   ]
  },
  {
   "cell_type": "code",
   "execution_count": 134,
   "metadata": {},
   "outputs": [],
   "source": [
    "data_collection = {}\n",
    "historical_index_daum('US.SP500', start_date='2019-01-01')"
   ]
  },
  {
   "cell_type": "code",
   "execution_count": 135,
   "metadata": {},
   "outputs": [
    {
     "data": {
      "text/plain": [
       "{datetime.date(2019, 4, 17): 2900.45,\n",
       " datetime.date(2019, 4, 16): 2907.06,\n",
       " datetime.date(2019, 4, 15): 2905.58,\n",
       " datetime.date(2019, 4, 12): 2905.25,\n",
       " datetime.date(2019, 4, 11): 2888.32,\n",
       " datetime.date(2019, 4, 10): 2888.21,\n",
       " datetime.date(2019, 4, 9): 2878.2,\n",
       " datetime.date(2019, 4, 8): 2895.77,\n",
       " datetime.date(2019, 4, 5): 2892.74,\n",
       " datetime.date(2019, 4, 4): 2879.39,\n",
       " datetime.date(2019, 4, 3): 2873.4,\n",
       " datetime.date(2019, 4, 2): 2867.24,\n",
       " datetime.date(2019, 4, 1): 2867.19,\n",
       " datetime.date(2019, 3, 29): 2834.4,\n",
       " datetime.date(2019, 3, 28): 2815.44,\n",
       " datetime.date(2019, 3, 27): 2805.37,\n",
       " datetime.date(2019, 3, 26): 2818.46,\n",
       " datetime.date(2019, 3, 25): 2798.36,\n",
       " datetime.date(2019, 3, 22): 2800.71,\n",
       " datetime.date(2019, 3, 21): 2854.88,\n",
       " datetime.date(2019, 3, 20): 2824.23,\n",
       " datetime.date(2019, 3, 19): 2832.57,\n",
       " datetime.date(2019, 3, 18): 2832.94,\n",
       " datetime.date(2019, 3, 15): 2822.48,\n",
       " datetime.date(2019, 3, 14): 2808.48,\n",
       " datetime.date(2019, 3, 13): 2810.92,\n",
       " datetime.date(2019, 3, 12): 2791.52,\n",
       " datetime.date(2019, 3, 11): 2783.3,\n",
       " datetime.date(2019, 3, 8): 2743.07,\n",
       " datetime.date(2019, 3, 7): 2748.93,\n",
       " datetime.date(2019, 3, 6): 2771.45,\n",
       " datetime.date(2019, 3, 5): 2789.65,\n",
       " datetime.date(2019, 3, 4): 2792.81,\n",
       " datetime.date(2019, 3, 1): 2803.69,\n",
       " datetime.date(2019, 2, 28): 2784.49,\n",
       " datetime.date(2019, 2, 27): 2792.38,\n",
       " datetime.date(2019, 2, 26): 2793.9,\n",
       " datetime.date(2019, 2, 25): 2796.11,\n",
       " datetime.date(2019, 2, 22): 2792.67,\n",
       " datetime.date(2019, 2, 21): 2774.88,\n",
       " datetime.date(2019, 2, 20): 2784.7,\n",
       " datetime.date(2019, 2, 19): 2779.76,\n",
       " datetime.date(2019, 2, 15): 2775.6,\n",
       " datetime.date(2019, 2, 14): 2745.73,\n",
       " datetime.date(2019, 2, 13): 2753.03,\n",
       " datetime.date(2019, 2, 12): 2744.73,\n",
       " datetime.date(2019, 2, 11): 2709.8,\n",
       " datetime.date(2019, 2, 8): 2707.88,\n",
       " datetime.date(2019, 2, 7): 2706.05,\n",
       " datetime.date(2019, 2, 6): 2731.61,\n",
       " datetime.date(2019, 2, 5): 2737.7,\n",
       " datetime.date(2019, 2, 4): 2724.87,\n",
       " datetime.date(2019, 2, 1): 2706.53,\n",
       " datetime.date(2019, 1, 31): 2704.1,\n",
       " datetime.date(2019, 1, 30): 2681.05,\n",
       " datetime.date(2019, 1, 29): 2640.0,\n",
       " datetime.date(2019, 1, 28): 2643.85,\n",
       " datetime.date(2019, 1, 25): 2664.76,\n",
       " datetime.date(2019, 1, 24): 2642.33,\n",
       " datetime.date(2019, 1, 23): 2638.7,\n",
       " datetime.date(2019, 1, 22): 2632.9,\n",
       " datetime.date(2019, 1, 18): 2670.71,\n",
       " datetime.date(2019, 1, 17): 2635.96,\n",
       " datetime.date(2019, 1, 16): 2616.1,\n",
       " datetime.date(2019, 1, 15): 2608.99,\n",
       " datetime.date(2019, 1, 14): 2582.61,\n",
       " datetime.date(2019, 1, 11): 2596.26,\n",
       " datetime.date(2019, 1, 10): 2596.64,\n",
       " datetime.date(2019, 1, 9): 2584.96,\n",
       " datetime.date(2019, 1, 8): 2574.41,\n",
       " datetime.date(2019, 1, 7): 2549.69,\n",
       " datetime.date(2019, 1, 4): 2531.94,\n",
       " datetime.date(2019, 1, 3): 2447.89,\n",
       " datetime.date(2019, 1, 2): 2510.03}"
      ]
     },
     "execution_count": 135,
     "metadata": {},
     "output_type": "execute_result"
    }
   ],
   "source": [
    "data_collection"
   ]
  },
  {
   "cell_type": "code",
   "execution_count": null,
   "metadata": {},
   "outputs": [],
   "source": []
  }
 ],
 "metadata": {
  "kernelspec": {
   "display_name": "Python 3",
   "language": "python",
   "name": "python3"
  },
  "language_info": {
   "codemirror_mode": {
    "name": "ipython",
    "version": 3
   },
   "file_extension": ".py",
   "mimetype": "text/x-python",
   "name": "python",
   "nbconvert_exporter": "python",
   "pygments_lexer": "ipython3",
   "version": "3.6.5"
  }
 },
 "nbformat": 4,
 "nbformat_minor": 2
}
