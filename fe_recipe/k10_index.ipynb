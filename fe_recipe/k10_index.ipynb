{
 "cells": [
  {
   "cell_type": "code",
   "execution_count": 1,
   "metadata": {},
   "outputs": [],
   "source": [
    "import pandas as pd\n",
    "import numpy as np\n",
    "import matplotlib.pyplot as plt\n",
    "import floating_stocks_index as fsi\n",
    "import historical_prices_kor"
   ]
  },
  {
   "cell_type": "code",
   "execution_count": 2,
   "metadata": {},
   "outputs": [],
   "source": [
    "top10 = fsi.top_10()"
   ]
  },
  {
   "cell_type": "code",
   "execution_count": 3,
   "metadata": {},
   "outputs": [],
   "source": [
    "start = '2017-01-01'\n",
    "end = '2017-12-31'\n",
    "\n",
    "top10_index = {}\n",
    "\n",
    "for stock in top10.values():\n",
    "    cd = stock[1]\n",
    "    prices = historical_prices_kor.Prices()\n",
    "    data = prices.prices_naver(cd, start_date=start, end_date=end)\n",
    "    \n",
    "    top10_index[stock[1]] = data"
   ]
  },
  {
   "cell_type": "code",
   "execution_count": 4,
   "metadata": {},
   "outputs": [],
   "source": [
    "top10_price = pd.DataFrame(top10_index)"
   ]
  },
  {
   "cell_type": "code",
   "execution_count": 5,
   "metadata": {},
   "outputs": [
    {
     "data": {
      "text/html": [
       "<div>\n",
       "<style scoped>\n",
       "    .dataframe tbody tr th:only-of-type {\n",
       "        vertical-align: middle;\n",
       "    }\n",
       "\n",
       "    .dataframe tbody tr th {\n",
       "        vertical-align: top;\n",
       "    }\n",
       "\n",
       "    .dataframe thead th {\n",
       "        text-align: right;\n",
       "    }\n",
       "</style>\n",
       "<table border=\"1\" class=\"dataframe\">\n",
       "  <thead>\n",
       "    <tr style=\"text-align: right;\">\n",
       "      <th></th>\n",
       "      <th>005930</th>\n",
       "      <th>000660</th>\n",
       "      <th>005935</th>\n",
       "      <th>005380</th>\n",
       "      <th>068270</th>\n",
       "      <th>051910</th>\n",
       "      <th>207940</th>\n",
       "      <th>005490</th>\n",
       "      <th>012330</th>\n",
       "      <th>051900</th>\n",
       "    </tr>\n",
       "  </thead>\n",
       "  <tbody>\n",
       "    <tr>\n",
       "      <th>2017-01-02</th>\n",
       "      <td>1805000</td>\n",
       "      <td>45800</td>\n",
       "      <td>1440000</td>\n",
       "      <td>150000</td>\n",
       "      <td>108200</td>\n",
       "      <td>253000</td>\n",
       "      <td>156500</td>\n",
       "      <td>260500</td>\n",
       "      <td>271500</td>\n",
       "      <td>817000</td>\n",
       "    </tr>\n",
       "    <tr>\n",
       "      <th>2017-01-03</th>\n",
       "      <td>1824000</td>\n",
       "      <td>47250</td>\n",
       "      <td>1439000</td>\n",
       "      <td>153000</td>\n",
       "      <td>106600</td>\n",
       "      <td>262000</td>\n",
       "      <td>158000</td>\n",
       "      <td>256000</td>\n",
       "      <td>275500</td>\n",
       "      <td>836000</td>\n",
       "    </tr>\n",
       "    <tr>\n",
       "      <th>2017-01-04</th>\n",
       "      <td>1808000</td>\n",
       "      <td>46500</td>\n",
       "      <td>1440000</td>\n",
       "      <td>154000</td>\n",
       "      <td>106100</td>\n",
       "      <td>268500</td>\n",
       "      <td>154500</td>\n",
       "      <td>254500</td>\n",
       "      <td>276000</td>\n",
       "      <td>851000</td>\n",
       "    </tr>\n",
       "    <tr>\n",
       "      <th>2017-01-05</th>\n",
       "      <td>1778000</td>\n",
       "      <td>46950</td>\n",
       "      <td>1414000</td>\n",
       "      <td>153500</td>\n",
       "      <td>106400</td>\n",
       "      <td>267500</td>\n",
       "      <td>157500</td>\n",
       "      <td>247500</td>\n",
       "      <td>280500</td>\n",
       "      <td>838000</td>\n",
       "    </tr>\n",
       "    <tr>\n",
       "      <th>2017-01-06</th>\n",
       "      <td>1810000</td>\n",
       "      <td>48000</td>\n",
       "      <td>1431000</td>\n",
       "      <td>151000</td>\n",
       "      <td>105300</td>\n",
       "      <td>266000</td>\n",
       "      <td>157500</td>\n",
       "      <td>250000</td>\n",
       "      <td>272500</td>\n",
       "      <td>850000</td>\n",
       "    </tr>\n",
       "  </tbody>\n",
       "</table>\n",
       "</div>"
      ],
      "text/plain": [
       "             005930  000660   005935  005380  068270  051910  207940  005490  \\\n",
       "2017-01-02  1805000   45800  1440000  150000  108200  253000  156500  260500   \n",
       "2017-01-03  1824000   47250  1439000  153000  106600  262000  158000  256000   \n",
       "2017-01-04  1808000   46500  1440000  154000  106100  268500  154500  254500   \n",
       "2017-01-05  1778000   46950  1414000  153500  106400  267500  157500  247500   \n",
       "2017-01-06  1810000   48000  1431000  151000  105300  266000  157500  250000   \n",
       "\n",
       "            012330  051900  \n",
       "2017-01-02  271500  817000  \n",
       "2017-01-03  275500  836000  \n",
       "2017-01-04  276000  851000  \n",
       "2017-01-05  280500  838000  \n",
       "2017-01-06  272500  850000  "
      ]
     },
     "execution_count": 5,
     "metadata": {},
     "output_type": "execute_result"
    }
   ],
   "source": [
    "top10_price.head()"
   ]
  },
  {
   "cell_type": "code",
   "execution_count": 8,
   "metadata": {},
   "outputs": [],
   "source": [
    "top10_price['005930'] = top10_price['005930'] / 50\n",
    "top10_price['005935'] = top10_price['005935'] / 50"
   ]
  },
  {
   "cell_type": "code",
   "execution_count": 9,
   "metadata": {},
   "outputs": [
    {
     "data": {
      "text/html": [
       "<div>\n",
       "<style scoped>\n",
       "    .dataframe tbody tr th:only-of-type {\n",
       "        vertical-align: middle;\n",
       "    }\n",
       "\n",
       "    .dataframe tbody tr th {\n",
       "        vertical-align: top;\n",
       "    }\n",
       "\n",
       "    .dataframe thead th {\n",
       "        text-align: right;\n",
       "    }\n",
       "</style>\n",
       "<table border=\"1\" class=\"dataframe\">\n",
       "  <thead>\n",
       "    <tr style=\"text-align: right;\">\n",
       "      <th></th>\n",
       "      <th>005930</th>\n",
       "      <th>000660</th>\n",
       "      <th>005935</th>\n",
       "      <th>005380</th>\n",
       "      <th>068270</th>\n",
       "      <th>051910</th>\n",
       "      <th>207940</th>\n",
       "      <th>005490</th>\n",
       "      <th>012330</th>\n",
       "      <th>051900</th>\n",
       "    </tr>\n",
       "  </thead>\n",
       "  <tbody>\n",
       "    <tr>\n",
       "      <th>2017-01-02</th>\n",
       "      <td>36100.0</td>\n",
       "      <td>45800</td>\n",
       "      <td>28800.0</td>\n",
       "      <td>150000</td>\n",
       "      <td>108200</td>\n",
       "      <td>253000</td>\n",
       "      <td>156500</td>\n",
       "      <td>260500</td>\n",
       "      <td>271500</td>\n",
       "      <td>817000</td>\n",
       "    </tr>\n",
       "    <tr>\n",
       "      <th>2017-01-03</th>\n",
       "      <td>36480.0</td>\n",
       "      <td>47250</td>\n",
       "      <td>28780.0</td>\n",
       "      <td>153000</td>\n",
       "      <td>106600</td>\n",
       "      <td>262000</td>\n",
       "      <td>158000</td>\n",
       "      <td>256000</td>\n",
       "      <td>275500</td>\n",
       "      <td>836000</td>\n",
       "    </tr>\n",
       "    <tr>\n",
       "      <th>2017-01-04</th>\n",
       "      <td>36160.0</td>\n",
       "      <td>46500</td>\n",
       "      <td>28800.0</td>\n",
       "      <td>154000</td>\n",
       "      <td>106100</td>\n",
       "      <td>268500</td>\n",
       "      <td>154500</td>\n",
       "      <td>254500</td>\n",
       "      <td>276000</td>\n",
       "      <td>851000</td>\n",
       "    </tr>\n",
       "    <tr>\n",
       "      <th>2017-01-05</th>\n",
       "      <td>35560.0</td>\n",
       "      <td>46950</td>\n",
       "      <td>28280.0</td>\n",
       "      <td>153500</td>\n",
       "      <td>106400</td>\n",
       "      <td>267500</td>\n",
       "      <td>157500</td>\n",
       "      <td>247500</td>\n",
       "      <td>280500</td>\n",
       "      <td>838000</td>\n",
       "    </tr>\n",
       "    <tr>\n",
       "      <th>2017-01-06</th>\n",
       "      <td>36200.0</td>\n",
       "      <td>48000</td>\n",
       "      <td>28620.0</td>\n",
       "      <td>151000</td>\n",
       "      <td>105300</td>\n",
       "      <td>266000</td>\n",
       "      <td>157500</td>\n",
       "      <td>250000</td>\n",
       "      <td>272500</td>\n",
       "      <td>850000</td>\n",
       "    </tr>\n",
       "  </tbody>\n",
       "</table>\n",
       "</div>"
      ],
      "text/plain": [
       "             005930  000660   005935  005380  068270  051910  207940  005490  \\\n",
       "2017-01-02  36100.0   45800  28800.0  150000  108200  253000  156500  260500   \n",
       "2017-01-03  36480.0   47250  28780.0  153000  106600  262000  158000  256000   \n",
       "2017-01-04  36160.0   46500  28800.0  154000  106100  268500  154500  254500   \n",
       "2017-01-05  35560.0   46950  28280.0  153500  106400  267500  157500  247500   \n",
       "2017-01-06  36200.0   48000  28620.0  151000  105300  266000  157500  250000   \n",
       "\n",
       "            012330  051900  \n",
       "2017-01-02  271500  817000  \n",
       "2017-01-03  275500  836000  \n",
       "2017-01-04  276000  851000  \n",
       "2017-01-05  280500  838000  \n",
       "2017-01-06  272500  850000  "
      ]
     },
     "execution_count": 9,
     "metadata": {},
     "output_type": "execute_result"
    }
   ],
   "source": [
    "top10_price.head()"
   ]
  },
  {
   "cell_type": "code",
   "execution_count": 10,
   "metadata": {},
   "outputs": [],
   "source": [
    "k10_fratio = {}\n",
    "k10_name = {}\n",
    "k10_outstanding = {}"
   ]
  },
  {
   "cell_type": "code",
   "execution_count": 11,
   "metadata": {},
   "outputs": [],
   "source": [
    "for stock in top10.values():\n",
    "    cd = stock[1]\n",
    "    data = fsi.agg_value(cd)\n",
    "    k10_fratio[cd] = data[1]\n",
    "    k10_name[cd] = stock[0]\n",
    "    k10_outstanding[cd] = data[2]"
   ]
  },
  {
   "cell_type": "code",
   "execution_count": 12,
   "metadata": {},
   "outputs": [],
   "source": [
    "tmp = {'Outstanding':k10_outstanding,\n",
    "      'Floating': k10_fratio,\n",
    "      'Name': k10_name,\n",
    "      'Price':top10_price.iloc[0]}"
   ]
  },
  {
   "cell_type": "code",
   "execution_count": 13,
   "metadata": {},
   "outputs": [],
   "source": [
    "k10_info = pd.DataFrame(tmp)"
   ]
  },
  {
   "cell_type": "code",
   "execution_count": 14,
   "metadata": {},
   "outputs": [
    {
     "data": {
      "text/html": [
       "<div>\n",
       "<style scoped>\n",
       "    .dataframe tbody tr th:only-of-type {\n",
       "        vertical-align: middle;\n",
       "    }\n",
       "\n",
       "    .dataframe tbody tr th {\n",
       "        vertical-align: top;\n",
       "    }\n",
       "\n",
       "    .dataframe thead th {\n",
       "        text-align: right;\n",
       "    }\n",
       "</style>\n",
       "<table border=\"1\" class=\"dataframe\">\n",
       "  <thead>\n",
       "    <tr style=\"text-align: right;\">\n",
       "      <th></th>\n",
       "      <th>Outstanding</th>\n",
       "      <th>Floating</th>\n",
       "      <th>Name</th>\n",
       "      <th>Price</th>\n",
       "    </tr>\n",
       "  </thead>\n",
       "  <tbody>\n",
       "    <tr>\n",
       "      <th>000660</th>\n",
       "      <td>7.280024e+08</td>\n",
       "      <td>73.89</td>\n",
       "      <td>SK하이닉스</td>\n",
       "      <td>45800.0</td>\n",
       "    </tr>\n",
       "    <tr>\n",
       "      <th>005380</th>\n",
       "      <td>2.136682e+08</td>\n",
       "      <td>65.77</td>\n",
       "      <td>현대차</td>\n",
       "      <td>150000.0</td>\n",
       "    </tr>\n",
       "    <tr>\n",
       "      <th>005490</th>\n",
       "      <td>8.718684e+07</td>\n",
       "      <td>79.52</td>\n",
       "      <td>POSCO</td>\n",
       "      <td>260500.0</td>\n",
       "    </tr>\n",
       "    <tr>\n",
       "      <th>005930</th>\n",
       "      <td>5.969783e+09</td>\n",
       "      <td>78.79</td>\n",
       "      <td>삼성전자</td>\n",
       "      <td>36100.0</td>\n",
       "    </tr>\n",
       "    <tr>\n",
       "      <th>005935</th>\n",
       "      <td>5.969783e+09</td>\n",
       "      <td>78.79</td>\n",
       "      <td>삼성전자우</td>\n",
       "      <td>28800.0</td>\n",
       "    </tr>\n",
       "    <tr>\n",
       "      <th>012330</th>\n",
       "      <td>9.734386e+07</td>\n",
       "      <td>67.12</td>\n",
       "      <td>현대모비스</td>\n",
       "      <td>271500.0</td>\n",
       "    </tr>\n",
       "    <tr>\n",
       "      <th>051900</th>\n",
       "      <td>1.561820e+07</td>\n",
       "      <td>59.83</td>\n",
       "      <td>LG생활건강</td>\n",
       "      <td>817000.0</td>\n",
       "    </tr>\n",
       "    <tr>\n",
       "      <th>051910</th>\n",
       "      <td>7.059234e+07</td>\n",
       "      <td>64.28</td>\n",
       "      <td>LG화학</td>\n",
       "      <td>253000.0</td>\n",
       "    </tr>\n",
       "    <tr>\n",
       "      <th>068270</th>\n",
       "      <td>1.279535e+08</td>\n",
       "      <td>66.22</td>\n",
       "      <td>셀트리온</td>\n",
       "      <td>108200.0</td>\n",
       "    </tr>\n",
       "    <tr>\n",
       "      <th>207940</th>\n",
       "      <td>6.616500e+07</td>\n",
       "      <td>24.74</td>\n",
       "      <td>삼성바이오로직스</td>\n",
       "      <td>156500.0</td>\n",
       "    </tr>\n",
       "  </tbody>\n",
       "</table>\n",
       "</div>"
      ],
      "text/plain": [
       "         Outstanding  Floating      Name     Price\n",
       "000660  7.280024e+08     73.89    SK하이닉스   45800.0\n",
       "005380  2.136682e+08     65.77       현대차  150000.0\n",
       "005490  8.718684e+07     79.52     POSCO  260500.0\n",
       "005930  5.969783e+09     78.79      삼성전자   36100.0\n",
       "005935  5.969783e+09     78.79     삼성전자우   28800.0\n",
       "012330  9.734386e+07     67.12     현대모비스  271500.0\n",
       "051900  1.561820e+07     59.83    LG생활건강  817000.0\n",
       "051910  7.059234e+07     64.28      LG화학  253000.0\n",
       "068270  1.279535e+08     66.22      셀트리온  108200.0\n",
       "207940  6.616500e+07     24.74  삼성바이오로직스  156500.0"
      ]
     },
     "execution_count": 14,
     "metadata": {},
     "output_type": "execute_result"
    }
   ],
   "source": [
    "k10_info"
   ]
  },
  {
   "cell_type": "code",
   "execution_count": 15,
   "metadata": {},
   "outputs": [],
   "source": [
    "k10_mc = top10_price * k10_info['Outstanding'] * k10_info['Floating'] * 0.01"
   ]
  },
  {
   "cell_type": "code",
   "execution_count": 16,
   "metadata": {},
   "outputs": [
    {
     "data": {
      "text/html": [
       "<div>\n",
       "<style scoped>\n",
       "    .dataframe tbody tr th:only-of-type {\n",
       "        vertical-align: middle;\n",
       "    }\n",
       "\n",
       "    .dataframe tbody tr th {\n",
       "        vertical-align: top;\n",
       "    }\n",
       "\n",
       "    .dataframe thead th {\n",
       "        text-align: right;\n",
       "    }\n",
       "</style>\n",
       "<table border=\"1\" class=\"dataframe\">\n",
       "  <thead>\n",
       "    <tr style=\"text-align: right;\">\n",
       "      <th></th>\n",
       "      <th>000660</th>\n",
       "      <th>005380</th>\n",
       "      <th>005490</th>\n",
       "      <th>005930</th>\n",
       "      <th>005935</th>\n",
       "      <th>012330</th>\n",
       "      <th>051900</th>\n",
       "      <th>051910</th>\n",
       "      <th>068270</th>\n",
       "      <th>207940</th>\n",
       "    </tr>\n",
       "  </thead>\n",
       "  <tbody>\n",
       "    <tr>\n",
       "      <th>2017-01-02</th>\n",
       "      <td>2.463678e+13</td>\n",
       "      <td>2.107943e+13</td>\n",
       "      <td>1.806072e+13</td>\n",
       "      <td>1.697997e+14</td>\n",
       "      <td>1.354634e+14</td>\n",
       "      <td>1.773905e+13</td>\n",
       "      <td>7.634348e+12</td>\n",
       "      <td>1.148032e+13</td>\n",
       "      <td>9.167873e+12</td>\n",
       "      <td>2.561783e+12</td>\n",
       "    </tr>\n",
       "    <tr>\n",
       "      <th>2017-01-03</th>\n",
       "      <td>2.541676e+13</td>\n",
       "      <td>2.150102e+13</td>\n",
       "      <td>1.774873e+13</td>\n",
       "      <td>1.715870e+14</td>\n",
       "      <td>1.353694e+14</td>\n",
       "      <td>1.800040e+13</td>\n",
       "      <td>7.811891e+12</td>\n",
       "      <td>1.188871e+13</td>\n",
       "      <td>9.032303e+12</td>\n",
       "      <td>2.586337e+12</td>\n",
       "    </tr>\n",
       "    <tr>\n",
       "      <th>2017-01-04</th>\n",
       "      <td>2.501332e+13</td>\n",
       "      <td>2.164155e+13</td>\n",
       "      <td>1.764473e+13</td>\n",
       "      <td>1.700819e+14</td>\n",
       "      <td>1.354634e+14</td>\n",
       "      <td>1.803307e+13</td>\n",
       "      <td>7.952057e+12</td>\n",
       "      <td>1.218366e+13</td>\n",
       "      <td>8.989938e+12</td>\n",
       "      <td>2.529045e+12</td>\n",
       "    </tr>\n",
       "    <tr>\n",
       "      <th>2017-01-05</th>\n",
       "      <td>2.525539e+13</td>\n",
       "      <td>2.157129e+13</td>\n",
       "      <td>1.715942e+13</td>\n",
       "      <td>1.672597e+14</td>\n",
       "      <td>1.330176e+14</td>\n",
       "      <td>1.832708e+13</td>\n",
       "      <td>7.830580e+12</td>\n",
       "      <td>1.213828e+13</td>\n",
       "      <td>9.015357e+12</td>\n",
       "      <td>2.578152e+12</td>\n",
       "    </tr>\n",
       "    <tr>\n",
       "      <th>2017-01-06</th>\n",
       "      <td>2.582021e+13</td>\n",
       "      <td>2.121996e+13</td>\n",
       "      <td>1.733274e+13</td>\n",
       "      <td>1.702700e+14</td>\n",
       "      <td>1.346168e+14</td>\n",
       "      <td>1.780439e+13</td>\n",
       "      <td>7.942712e+12</td>\n",
       "      <td>1.207022e+13</td>\n",
       "      <td>8.922153e+12</td>\n",
       "      <td>2.578152e+12</td>\n",
       "    </tr>\n",
       "  </tbody>\n",
       "</table>\n",
       "</div>"
      ],
      "text/plain": [
       "                  000660        005380        005490        005930  \\\n",
       "2017-01-02  2.463678e+13  2.107943e+13  1.806072e+13  1.697997e+14   \n",
       "2017-01-03  2.541676e+13  2.150102e+13  1.774873e+13  1.715870e+14   \n",
       "2017-01-04  2.501332e+13  2.164155e+13  1.764473e+13  1.700819e+14   \n",
       "2017-01-05  2.525539e+13  2.157129e+13  1.715942e+13  1.672597e+14   \n",
       "2017-01-06  2.582021e+13  2.121996e+13  1.733274e+13  1.702700e+14   \n",
       "\n",
       "                  005935        012330        051900        051910  \\\n",
       "2017-01-02  1.354634e+14  1.773905e+13  7.634348e+12  1.148032e+13   \n",
       "2017-01-03  1.353694e+14  1.800040e+13  7.811891e+12  1.188871e+13   \n",
       "2017-01-04  1.354634e+14  1.803307e+13  7.952057e+12  1.218366e+13   \n",
       "2017-01-05  1.330176e+14  1.832708e+13  7.830580e+12  1.213828e+13   \n",
       "2017-01-06  1.346168e+14  1.780439e+13  7.942712e+12  1.207022e+13   \n",
       "\n",
       "                  068270        207940  \n",
       "2017-01-02  9.167873e+12  2.561783e+12  \n",
       "2017-01-03  9.032303e+12  2.586337e+12  \n",
       "2017-01-04  8.989938e+12  2.529045e+12  \n",
       "2017-01-05  9.015357e+12  2.578152e+12  \n",
       "2017-01-06  8.922153e+12  2.578152e+12  "
      ]
     },
     "execution_count": 16,
     "metadata": {},
     "output_type": "execute_result"
    }
   ],
   "source": [
    "k10_mc.head()"
   ]
  },
  {
   "cell_type": "code",
   "execution_count": 18,
   "metadata": {},
   "outputs": [],
   "source": [
    "k10 = pd.DataFrame()"
   ]
  },
  {
   "cell_type": "code",
   "execution_count": 19,
   "metadata": {},
   "outputs": [],
   "source": [
    "k10['K10 Market Cap'] = k10_mc.sum(axis=1)"
   ]
  },
  {
   "cell_type": "code",
   "execution_count": 24,
   "metadata": {},
   "outputs": [],
   "source": [
    "k10['K10_index'] = k10['K10 Market Cap'] / k10['K10 Market Cap'][0] *100"
   ]
  },
  {
   "cell_type": "code",
   "execution_count": 25,
   "metadata": {},
   "outputs": [
    {
     "data": {
      "text/html": [
       "<div>\n",
       "<style scoped>\n",
       "    .dataframe tbody tr th:only-of-type {\n",
       "        vertical-align: middle;\n",
       "    }\n",
       "\n",
       "    .dataframe tbody tr th {\n",
       "        vertical-align: top;\n",
       "    }\n",
       "\n",
       "    .dataframe thead th {\n",
       "        text-align: right;\n",
       "    }\n",
       "</style>\n",
       "<table border=\"1\" class=\"dataframe\">\n",
       "  <thead>\n",
       "    <tr style=\"text-align: right;\">\n",
       "      <th></th>\n",
       "      <th>K10 Market Cap</th>\n",
       "      <th>K10_index</th>\n",
       "    </tr>\n",
       "  </thead>\n",
       "  <tbody>\n",
       "    <tr>\n",
       "      <th>2017-12-21</th>\n",
       "      <td>5.691895e+14</td>\n",
       "      <td>136.292539</td>\n",
       "    </tr>\n",
       "    <tr>\n",
       "      <th>2017-12-22</th>\n",
       "      <td>5.768628e+14</td>\n",
       "      <td>138.129896</td>\n",
       "    </tr>\n",
       "    <tr>\n",
       "      <th>2017-12-26</th>\n",
       "      <td>5.639388e+14</td>\n",
       "      <td>135.035243</td>\n",
       "    </tr>\n",
       "    <tr>\n",
       "      <th>2017-12-27</th>\n",
       "      <td>5.771908e+14</td>\n",
       "      <td>138.208445</td>\n",
       "    </tr>\n",
       "    <tr>\n",
       "      <th>2017-12-28</th>\n",
       "      <td>5.939100e+14</td>\n",
       "      <td>142.211848</td>\n",
       "    </tr>\n",
       "  </tbody>\n",
       "</table>\n",
       "</div>"
      ],
      "text/plain": [
       "            K10 Market Cap   K10_index\n",
       "2017-12-21    5.691895e+14  136.292539\n",
       "2017-12-22    5.768628e+14  138.129896\n",
       "2017-12-26    5.639388e+14  135.035243\n",
       "2017-12-27    5.771908e+14  138.208445\n",
       "2017-12-28    5.939100e+14  142.211848"
      ]
     },
     "execution_count": 25,
     "metadata": {},
     "output_type": "execute_result"
    }
   ],
   "source": [
    "k10.tail()"
   ]
  },
  {
   "cell_type": "code",
   "execution_count": 27,
   "metadata": {},
   "outputs": [
    {
     "data": {
      "image/png": "[encoded data removed]",
      "text/plain": [
       "<Figure size 720x360 with 1 Axes>"
      ]
     },
     "metadata": {
      "needs_background": "light"
     },
     "output_type": "display_data"
    }
   ],
   "source": [
    "plt.figure(figsize=(10,5))\n",
    "plt.plot(k10['K10_index'])\n",
    "plt.legend(loc=0)\n",
    "plt.grid(True, linestyle=':')"
   ]
  },
  {
   "cell_type": "code",
   "execution_count": 28,
   "metadata": {},
   "outputs": [],
   "source": [
    "import historical_indices_kor"
   ]
  },
  {
   "cell_type": "code",
   "execution_count": 29,
   "metadata": {},
   "outputs": [],
   "source": [
    "kospi200 = historical_indices_kor.historical_index_naver('KPI200', start_date='2017-01-01', end_date='2017-12-31')"
   ]
  },
  {
   "cell_type": "code",
   "execution_count": 34,
   "metadata": {},
   "outputs": [],
   "source": [
    "K200 = pd.DataFrame({'K200':kospi200})"
   ]
  },
  {
   "cell_type": "code",
   "execution_count": 37,
   "metadata": {},
   "outputs": [
    {
     "data": {
      "image/png": "[encoded data removed]",
      "text/plain": [
       "<Figure size 720x360 with 1 Axes>"
      ]
     },
     "metadata": {
      "needs_background": "light"
     },
     "output_type": "display_data"
    }
   ],
   "source": [
    "plt.figure(figsize=(10,5))\n",
    "plt.plot(k10['K10_index'])\n",
    "plt.plot(K200['K200'] / K200['K200'][0] * 100)\n",
    "plt.legend(loc=0)\n",
    "plt.grid(True, linestyle=':')"
   ]
  },
  {
   "cell_type": "code",
   "execution_count": null,
   "metadata": {},
   "outputs": [],
   "source": []
  }
 ],
 "metadata": {
  "kernelspec": {
   "display_name": "Python 3",
   "language": "python",
   "name": "python3"
  },
  "language_info": {
   "codemirror_mode": {
    "name": "ipython",
    "version": 3
   },
   "file_extension": ".py",
   "mimetype": "text/x-python",
   "name": "python",
   "nbconvert_exporter": "python",
   "pygments_lexer": "ipython3",
   "version": "3.6.7"
  }
 },
 "nbformat": 4,
 "nbformat_minor": 2
}
