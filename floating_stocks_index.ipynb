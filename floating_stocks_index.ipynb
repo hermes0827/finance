{
 "cells": [
  {
   "cell_type": "code",
   "execution_count": 350,
   "metadata": {},
   "outputs": [],
   "source": [
    "import requests\n",
    "from urllib.request import urlopen\n",
    "from bs4 import BeautifulSoup\n",
    "import re\n",
    "import json"
   ]
  },
  {
   "cell_type": "code",
   "execution_count": 351,
   "metadata": {},
   "outputs": [],
   "source": [
    "def agg_value(index_cd):\n",
    "    url = 'https://navercomp.wisereport.co.kr/v2/company/c1010001.aspx?cmp_cd='+ str(index_cd)\n",
    "    data = requests.get(url)\n",
    "    soup = BeautifulSoup(data.content, 'html.parser')\n",
    "    \n",
    "    agg = soup.select('#cTB11 > tbody > tr > td')[4].contents\n",
    "    floating_stocks = soup.select('#cTB11 > tbody > tr > td')[6].contents\n",
    "    \n",
    "    agg = re.sub('\\s', '', agg[0])\n",
    "    floating_stocks = re.sub('\\s', '', floating_stocks[0])\n",
    "    \n",
    "    agg = float(agg.split('억원')[0].replace(',', ''))\n",
    "    floating_stocks = float(floating_stocks.split('/')[1].replace('%', ''))\n",
    "    \n",
    "    floating_ratio = agg*floating_stocks*0.01\n",
    "    \n",
    "    return floating_ratio"
   ]
  },
  {
   "cell_type": "code",
   "execution_count": 392,
   "metadata": {},
   "outputs": [],
   "source": [
    "def top_10():\n",
    "    url = 'https://finance.daum.net/api/trend/market_capitalization?page=1&perPage=30&fieldName=marketCap&order=desc&market=KOSPI&pagination=true'\n",
    "    headers = {\n",
    "    'accept' : 'application/json, text/javascript, */*; q=0.01',\n",
    "    'accept-encoding' : 'gzip, deflate, br',\n",
    "    'accept-language' : 'ko-KR,ko;q=0.9,en-US;q=0.8,en;q=0.7',\n",
    "    'cookie' : 'webid=a52a85960039415fb97a245576cb34fc; _ga=GA1.2.1347221116.1555650225; _gid=GA1.2.1151933618.1555650225; TIARA=lBb2Ougu_XR5QQ3GlYDnUOstbhDCn8mx34mICN5rBcrsfXqC..R3F-6njG1Oxw3SVNyAhG4zohq-s5mhUanb7OmPmifye5_p; webid_sync=1555650225850; _gat_gtag_UA_128578811_1=1; _dfs=MWF5KzJWR3RhbFFzbXN4Ylg5UG02Q1piYjNoVVFPb1l1K0hhUEZMeGJHd3gwSDQxNGNQTW1kdmpsQ0IvOWEza1F4QkpreVFwbXdDd2d4L0JmTnlvM3c9PS0tVUFzL01rYlJUd0dLUE8vcTkwWjhoQT09--2c81036331fa9fd9e39403beab3e33f9441dd170',\n",
    "    'if-none-match' : 'W/\"9a47bd61cb0de633ca41189fb802c90f\"',\n",
    "    'referer' : 'https://finance.daum.net/domestic/market_cap',\n",
    "    'user-agent' : 'Mozilla/5.0 (Windows NT 10.0; Win64; x64) AppleWebKit/537.36 (KHTML, like Gecko) Chrome/73.0.3683.103 Safari/537.36',\n",
    "    'x-requested-with' : 'XMLHttpRequest',\n",
    "    }\n",
    "    data = requests.get(url, headers=headers)\n",
    "    data = json.loads(data.text)['data']\n",
    "    \n",
    "    top_10 = {}\n",
    "    \n",
    "    for i in range(10):\n",
    "        rank = data[i]['rank']\n",
    "        name = data[i]['name']\n",
    "        code = data[i]['symbolCode'][1:]\n",
    "        price = data[i]['tradePrice']\n",
    "        agg = data[i]['marketCap']\n",
    "        \n",
    "        top_10[rank] = [name, code, price, agg]\n",
    "        \n",
    "    return top_10"
   ]
  }
 ],
 "metadata": {
  "kernelspec": {
   "display_name": "Python 3",
   "language": "python",
   "name": "python3"
  },
  "language_info": {
   "codemirror_mode": {
    "name": "ipython",
    "version": 3
   },
   "file_extension": ".py",
   "mimetype": "text/x-python",
   "name": "python",
   "nbconvert_exporter": "python",
   "pygments_lexer": "ipython3",
   "version": "3.6.5"
  }
 },
 "nbformat": 4,
 "nbformat_minor": 2
}
