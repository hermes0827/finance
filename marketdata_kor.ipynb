{
 "cells": [
  {
   "cell_type": "code",
   "execution_count": 29,
   "metadata": {},
   "outputs": [],
   "source": [
    "import pandas as pd"
   ]
  },
  {
   "cell_type": "code",
   "execution_count": 30,
   "metadata": {},
   "outputs": [],
   "source": [
    "def read(market):\n",
    "    marketTypeMap = {'KRX':'', 'KOSPI':'stockMkt', 'KOSDAQ':'kosdaqMkt', 'KONEX':'konexMkt' }\n",
    "    url = 'http://kind.krx.co.kr/corpgeneral/corpList.do?' \\\n",
    "                'method=download&searchType=13&marketType=' + marketTypeMap[market]\n",
    "    df = pd.read_html(url, header=0)[0]\n",
    "    df['종목코드'] = df['종목코드'].apply(lambda x: '{:06d}'.format(x))\n",
    "    df['상장일'] = pd.to_datetime(df['상장일'])\n",
    "    cols_ren = {'회사명':'Name', '종목코드':'Symbol', '업종':'Sector', '주요제품':'Industry'}\n",
    "    df = df.rename(columns = cols_ren)\n",
    "    return df[['Symbol', 'Name', 'Sector', 'Industry']]"
   ]
  },
  {
   "cell_type": "code",
   "execution_count": 33,
   "metadata": {},
   "outputs": [
    {
     "data": {
      "text/html": [
       "<div>\n",
       "<style scoped>\n",
       "    .dataframe tbody tr th:only-of-type {\n",
       "        vertical-align: middle;\n",
       "    }\n",
       "\n",
       "    .dataframe tbody tr th {\n",
       "        vertical-align: top;\n",
       "    }\n",
       "\n",
       "    .dataframe thead th {\n",
       "        text-align: right;\n",
       "    }\n",
       "</style>\n",
       "<table border=\"1\" class=\"dataframe\">\n",
       "  <thead>\n",
       "    <tr style=\"text-align: right;\">\n",
       "      <th></th>\n",
       "      <th>Symbol</th>\n",
       "      <th>Name</th>\n",
       "      <th>Sector</th>\n",
       "      <th>Industry</th>\n",
       "    </tr>\n",
       "  </thead>\n",
       "  <tbody>\n",
       "    <tr>\n",
       "      <th>0</th>\n",
       "      <td>082740</td>\n",
       "      <td>HSD엔진</td>\n",
       "      <td>일반 목적용 기계 제조업</td>\n",
       "      <td>대형선박용엔진,내연발전엔진</td>\n",
       "    </tr>\n",
       "    <tr>\n",
       "      <th>1</th>\n",
       "      <td>001390</td>\n",
       "      <td>KG케미칼</td>\n",
       "      <td>기초 화학물질 제조업</td>\n",
       "      <td>콘크리트혼화제, 비료, 친환경농자재, 수처리제</td>\n",
       "    </tr>\n",
       "    <tr>\n",
       "      <th>2</th>\n",
       "      <td>011070</td>\n",
       "      <td>LG이노텍</td>\n",
       "      <td>전자부품 제조업</td>\n",
       "      <td>기타 전자부품 제조업</td>\n",
       "    </tr>\n",
       "    <tr>\n",
       "      <th>3</th>\n",
       "      <td>010060</td>\n",
       "      <td>OCI</td>\n",
       "      <td>기초 화학물질 제조업</td>\n",
       "      <td>타르제품,카본블랙,무수프탈산,농약원제,석탄화학제품,정밀화학제품,플라스틱창호재 제조,판매</td>\n",
       "    </tr>\n",
       "    <tr>\n",
       "      <th>4</th>\n",
       "      <td>001740</td>\n",
       "      <td>SK네트웍스</td>\n",
       "      <td>기타 전문 도매업</td>\n",
       "      <td>종합무역업(전자전기제품,섬유,에너지화학제품,철강금속제품),의류,수입산합판,MDF판매...</td>\n",
       "    </tr>\n",
       "  </tbody>\n",
       "</table>\n",
       "</div>"
      ],
      "text/plain": [
       "   Symbol    Name         Sector  \\\n",
       "0  082740   HSD엔진  일반 목적용 기계 제조업   \n",
       "1  001390   KG케미칼    기초 화학물질 제조업   \n",
       "2  011070   LG이노텍       전자부품 제조업   \n",
       "3  010060     OCI    기초 화학물질 제조업   \n",
       "4  001740  SK네트웍스      기타 전문 도매업   \n",
       "\n",
       "                                            Industry  \n",
       "0                                     대형선박용엔진,내연발전엔진  \n",
       "1                          콘크리트혼화제, 비료, 친환경농자재, 수처리제  \n",
       "2                                        기타 전자부품 제조업  \n",
       "3   타르제품,카본블랙,무수프탈산,농약원제,석탄화학제품,정밀화학제품,플라스틱창호재 제조,판매  \n",
       "4  종합무역업(전자전기제품,섬유,에너지화학제품,철강금속제품),의류,수입산합판,MDF판매...  "
      ]
     },
     "execution_count": 33,
     "metadata": {},
     "output_type": "execute_result"
    }
   ],
   "source": [
    "read('KRX').head()"
   ]
  },
  {
   "cell_type": "code",
   "execution_count": null,
   "metadata": {},
   "outputs": [],
   "source": []
  }
 ],
 "metadata": {
  "kernelspec": {
   "display_name": "Python 3",
   "language": "python",
   "name": "python3"
  },
  "language_info": {
   "codemirror_mode": {
    "name": "ipython",
    "version": 3
   },
   "file_extension": ".py",
   "mimetype": "text/x-python",
   "name": "python",
   "nbconvert_exporter": "python",
   "pygments_lexer": "ipython3",
   "version": "3.6.5"
  }
 },
 "nbformat": 4,
 "nbformat_minor": 2
}
