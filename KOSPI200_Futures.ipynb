{
 "cells": [
  {
   "cell_type": "code",
   "execution_count": 36,
   "metadata": {},
   "outputs": [],
   "source": [
    "from urllib.request import urlopen\n",
    "import requests\n",
    "import re\n",
    "import datetime"
   ]
  },
  {
   "cell_type": "code",
   "execution_count": 103,
   "metadata": {},
   "outputs": [],
   "source": [
    "url = 'http://marketdata.krx.co.kr/contents/COM/GenerateOTP.jspx'\n",
    "data = {\n",
    "    'name' : 'fileDown',\n",
    "    'filetype' : 'csv',\n",
    "    'url' : 'MKD/06/0601/06010100/mkd06010100_01',\n",
    "    'isu_cd' : 'KRDRVFUK2I',\n",
    "    'fromdate' : '20190118',\n",
    "    'todate' : '20190418',\n",
    "    'pagePath' : '/contents/MKD/06/0601/06010100/MKD06010100.jsp',\n",
    "}"
   ]
  },
  {
   "cell_type": "code",
   "execution_count": 104,
   "metadata": {},
   "outputs": [],
   "source": [
    "r = requests.post(url, data)"
   ]
  },
  {
   "cell_type": "code",
   "execution_count": 105,
   "metadata": {},
   "outputs": [],
   "source": [
    "down_url = 'http://file.krx.co.kr/download.jspx'\n",
    "down_data = {\n",
    "    'code': r.text,\n",
    "    }\n",
    "down_headers = {\n",
    "    'Referer' : 'http://marketdata.krx.co.kr/contents/MKD//06/0601/06010100/MKD06010100.jsp',\n",
    "}"
   ]
  },
  {
   "cell_type": "code",
   "execution_count": 106,
   "metadata": {},
   "outputs": [],
   "source": [
    "r2 = requests.post(down_url, down_data, headers=down_headers)"
   ]
  },
  {
   "cell_type": "code",
   "execution_count": 107,
   "metadata": {},
   "outputs": [
    {
     "name": "stdout",
     "output_type": "stream",
     "text": [
      "종목,현재가,대비,시가,고가,저가,거래량,미결제,종목코드\n",
      "코스피200 F 201906,\"286.50\",\"-5.05\",\"291.75\",\"291.90\",\"286.25\",\"220,835\",\"325,779\",KR4101P60004\n",
      "코스피200 F 201909,\"287.00\",\"-5.05\",\"292.20\",\"292.30\",\"286.90\",\"266\",\"8,876\",KR4101P90001\n",
      "코스피200 F 201912,\"288.00\",\"-4.75\",\"288.00\",\"288.00\",\"288.00\",\"1\",\"29,128\",KR4101PC0002\n",
      "코스피200 F 202003,\"289.95\",\"0.00\",\"0.00\",\"0.00\",\"0.00\",\"0\",\"124\",KR4101Q30005\n",
      "코스피200 F 202006,\"286.40\",\"-4.20\",\"287.40\",\"287.40\",\"286.40\",\"2\",\"5,422\",KR4101Q60002\n",
      "코스피200 F 202012,\"291.80\",\"0.00\",\"0.00\",\"0.00\",\"0.00\",\"0\",\"16,840\",KR4101QC0001\n",
      "코스피200 F 202112,\"288.00\",\"-2.65\",\"288.00\",\"288.00\",\"288.00\",\"1\",\"2,506\",KR4101RC0000\n"
     ]
    }
   ],
   "source": [
    "print(r2.text)"
   ]
  },
  {
   "cell_type": "code",
   "execution_count": null,
   "metadata": {},
   "outputs": [],
   "source": []
  }
 ],
 "metadata": {
  "kernelspec": {
   "display_name": "Python 3",
   "language": "python",
   "name": "python3"
  },
  "language_info": {
   "codemirror_mode": {
    "name": "ipython",
    "version": 3
   },
   "file_extension": ".py",
   "mimetype": "text/x-python",
   "name": "python",
   "nbconvert_exporter": "python",
   "pygments_lexer": "ipython3",
   "version": "3.6.5"
  }
 },
 "nbformat": 4,
 "nbformat_minor": 2
}
